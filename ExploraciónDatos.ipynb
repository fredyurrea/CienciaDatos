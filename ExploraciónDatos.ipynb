{
  "cells": [
    {
      "cell_type": "markdown",
      "metadata": {
        "id": "view-in-github",
        "colab_type": "text"
      },
      "source": [
        "<a href=\"https://colab.research.google.com/github/fredyurrea/CienciaDatos/blob/main/Exploracio%CC%81nDatos.ipynb\" target=\"_parent\"><img src=\"https://colab.research.google.com/assets/colab-badge.svg\" alt=\"Open In Colab\"/></a>"
      ]
    },
    {
      "cell_type": "markdown",
      "id": "833241ac-fdac-4243-8e3d-a3f3b0cc0757",
      "metadata": {
        "tags": [],
        "id": "833241ac-fdac-4243-8e3d-a3f3b0cc0757"
      },
      "source": [
        "# **Exploración de datos con Python**"
      ]
    },
    {
      "cell_type": "markdown",
      "id": "0ba1f0d3-9bd4-41c1-80da-108d1810ab14",
      "metadata": {
        "id": "0ba1f0d3-9bd4-41c1-80da-108d1810ab14"
      },
      "source": [
        "Por Fredy Arley Urrea Cifuentes\n",
        "Estudiante de Estadística"
      ]
    },
    {
      "cell_type": "markdown",
      "id": "e645ca91-e854-4d8c-a8b9-41d55b9a843d",
      "metadata": {
        "id": "e645ca91-e854-4d8c-a8b9-41d55b9a843d"
      },
      "source": [
        "![titulo](logounal.png)"
      ]
    },
    {
      "cell_type": "markdown",
      "id": "0602ebc6-4625-4d1f-ac41-4feaac0172a6",
      "metadata": {
        "id": "0602ebc6-4625-4d1f-ac41-4feaac0172a6"
      },
      "source": [
        "![titulo1](furreac.png)"
      ]
    },
    {
      "cell_type": "markdown",
      "id": "41caa77f-4a14-4674-85ed-6248def4dd04",
      "metadata": {
        "id": "41caa77f-4a14-4674-85ed-6248def4dd04"
      },
      "source": [
        "Mi nombre es Fredy, me gusta el álgebra, la música y la Estadística."
      ]
    },
    {
      "cell_type": "markdown",
      "id": "d545aa5b-e6e9-401b-b095-5e8afac2cc1a",
      "metadata": {
        "id": "d545aa5b-e6e9-401b-b095-5e8afac2cc1a"
      },
      "source": [
        "## Hablemos sobre la media aritmética"
      ]
    },
    {
      "cell_type": "markdown",
      "id": "ad79dad9-baa9-4ceb-a038-b8b34ce23cc8",
      "metadata": {
        "id": "ad79dad9-baa9-4ceb-a038-b8b34ce23cc8"
      },
      "source": [
        "**Definición:**  La Media($\\bar{x})$es el cociente entre la suma de los datos y el número de datos."
      ]
    },
    {
      "cell_type": "markdown",
      "id": "5e12c531-4111-48ad-b851-23b98fd1e45d",
      "metadata": {
        "id": "5e12c531-4111-48ad-b851-23b98fd1e45d"
      },
      "source": [
        "$\\bar{x}=\\frac{\\sum (x_{i})}{n}$"
      ]
    },
    {
      "cell_type": "markdown",
      "id": "9ed626e2-dc8d-4643-98be-3c47a9324e71",
      "metadata": {
        "id": "9ed626e2-dc8d-4643-98be-3c47a9324e71"
      },
      "source": [
        "Vamos a calcular la media aritmética de un conjunto de datos utilizando Python. Para ello usaremos la famosa librería Pandas, observe"
      ]
    },
    {
      "cell_type": "code",
      "execution_count": null,
      "id": "e17344f5-714e-4ca2-8cf0-974e51c9bc96",
      "metadata": {
        "id": "e17344f5-714e-4ca2-8cf0-974e51c9bc96"
      },
      "outputs": [],
      "source": [
        "import pandas as pd"
      ]
    },
    {
      "cell_type": "markdown",
      "id": "5cd98f35-243e-4fd1-91ee-23f8791dd437",
      "metadata": {
        "id": "5cd98f35-243e-4fd1-91ee-23f8791dd437"
      },
      "source": [
        "Importaremos la base de datos de notas de los alumnos del FEM+CC en cierta asignatura"
      ]
    },
    {
      "cell_type": "code",
      "execution_count": null,
      "id": "a82352b8-0c68-479e-b567-2ebe83dd23e9",
      "metadata": {
        "id": "a82352b8-0c68-479e-b567-2ebe83dd23e9"
      },
      "outputs": [],
      "source": [
        "df_notas=pd.read_excel(\"notas.xls\")"
      ]
    },
    {
      "cell_type": "code",
      "execution_count": null,
      "id": "2211adc4-27be-4d3b-8787-d08deb412156",
      "metadata": {
        "id": "2211adc4-27be-4d3b-8787-d08deb412156"
      },
      "outputs": [],
      "source": []
    },
    {
      "cell_type": "code",
      "execution_count": null,
      "id": "24f8579d-714e-4fd2-a84f-0ce0957da716",
      "metadata": {
        "id": "24f8579d-714e-4fd2-a84f-0ce0957da716",
        "outputId": "8911946d-e0c5-4ab5-c871-79e2e241fda5"
      },
      "outputs": [
        {
          "data": {
            "text/html": [
              "<div>\n",
              "<style scoped>\n",
              "    .dataframe tbody tr th:only-of-type {\n",
              "        vertical-align: middle;\n",
              "    }\n",
              "\n",
              "    .dataframe tbody tr th {\n",
              "        vertical-align: top;\n",
              "    }\n",
              "\n",
              "    .dataframe thead th {\n",
              "        text-align: right;\n",
              "    }\n",
              "</style>\n",
              "<table border=\"1\" class=\"dataframe\">\n",
              "  <thead>\n",
              "    <tr style=\"text-align: right;\">\n",
              "      <th></th>\n",
              "      <th>PLAN</th>\n",
              "      <th>NOTA</th>\n",
              "    </tr>\n",
              "  </thead>\n",
              "  <tbody>\n",
              "    <tr>\n",
              "      <th>0</th>\n",
              "      <td>2933 - CIENCIAS DE LA COMPUTACIÓN</td>\n",
              "      <td>3.3</td>\n",
              "    </tr>\n",
              "    <tr>\n",
              "      <th>1</th>\n",
              "      <td>2516 - FÍSICA</td>\n",
              "      <td>3.4</td>\n",
              "    </tr>\n",
              "    <tr>\n",
              "      <th>2</th>\n",
              "      <td>2516 - FÍSICA</td>\n",
              "      <td>1.4</td>\n",
              "    </tr>\n",
              "    <tr>\n",
              "      <th>3</th>\n",
              "      <td>2514 - ESTADÍSTICA</td>\n",
              "      <td>1.1</td>\n",
              "    </tr>\n",
              "    <tr>\n",
              "      <th>4</th>\n",
              "      <td>2514 - ESTADÍSTICA</td>\n",
              "      <td>1.4</td>\n",
              "    </tr>\n",
              "    <tr>\n",
              "      <th>5</th>\n",
              "      <td>2514 - ESTADÍSTICA</td>\n",
              "      <td>4.6</td>\n",
              "    </tr>\n",
              "    <tr>\n",
              "      <th>6</th>\n",
              "      <td>2516 - FÍSICA</td>\n",
              "      <td>4.6</td>\n",
              "    </tr>\n",
              "    <tr>\n",
              "      <th>7</th>\n",
              "      <td>2516 - FÍSICA</td>\n",
              "      <td>4.9</td>\n",
              "    </tr>\n",
              "    <tr>\n",
              "      <th>8</th>\n",
              "      <td>2514 - ESTADÍSTICA</td>\n",
              "      <td>3.7</td>\n",
              "    </tr>\n",
              "    <tr>\n",
              "      <th>9</th>\n",
              "      <td>2516 - FÍSICA</td>\n",
              "      <td>4.7</td>\n",
              "    </tr>\n",
              "    <tr>\n",
              "      <th>10</th>\n",
              "      <td>2518 - MATEMÁTICAS</td>\n",
              "      <td>4.9</td>\n",
              "    </tr>\n",
              "    <tr>\n",
              "      <th>11</th>\n",
              "      <td>2514 - ESTADÍSTICA</td>\n",
              "      <td>4.2</td>\n",
              "    </tr>\n",
              "    <tr>\n",
              "      <th>12</th>\n",
              "      <td>2516 - FÍSICA</td>\n",
              "      <td>4.3</td>\n",
              "    </tr>\n",
              "    <tr>\n",
              "      <th>13</th>\n",
              "      <td>2514 - ESTADÍSTICA</td>\n",
              "      <td>3.7</td>\n",
              "    </tr>\n",
              "    <tr>\n",
              "      <th>14</th>\n",
              "      <td>2516 - FÍSICA</td>\n",
              "      <td>5.0</td>\n",
              "    </tr>\n",
              "    <tr>\n",
              "      <th>15</th>\n",
              "      <td>2518 - MATEMÁTICAS</td>\n",
              "      <td>1.1</td>\n",
              "    </tr>\n",
              "    <tr>\n",
              "      <th>16</th>\n",
              "      <td>2514 - ESTADÍSTICA</td>\n",
              "      <td>3.6</td>\n",
              "    </tr>\n",
              "    <tr>\n",
              "      <th>17</th>\n",
              "      <td>2514 - ESTADÍSTICA</td>\n",
              "      <td>4.1</td>\n",
              "    </tr>\n",
              "    <tr>\n",
              "      <th>18</th>\n",
              "      <td>2514 - ESTADÍSTICA</td>\n",
              "      <td>2.9</td>\n",
              "    </tr>\n",
              "    <tr>\n",
              "      <th>19</th>\n",
              "      <td>2518 - MATEMÁTICAS</td>\n",
              "      <td>0.7</td>\n",
              "    </tr>\n",
              "  </tbody>\n",
              "</table>\n",
              "</div>"
            ],
            "text/plain": [
              "                                 PLAN  NOTA\n",
              "0   2933 - CIENCIAS DE LA COMPUTACIÓN   3.3\n",
              "1                       2516 - FÍSICA   3.4\n",
              "2                       2516 - FÍSICA   1.4\n",
              "3                  2514 - ESTADÍSTICA   1.1\n",
              "4                  2514 - ESTADÍSTICA   1.4\n",
              "5                  2514 - ESTADÍSTICA   4.6\n",
              "6                       2516 - FÍSICA   4.6\n",
              "7                       2516 - FÍSICA   4.9\n",
              "8                  2514 - ESTADÍSTICA   3.7\n",
              "9                       2516 - FÍSICA   4.7\n",
              "10                 2518 - MATEMÁTICAS   4.9\n",
              "11                 2514 - ESTADÍSTICA   4.2\n",
              "12                      2516 - FÍSICA   4.3\n",
              "13                 2514 - ESTADÍSTICA   3.7\n",
              "14                      2516 - FÍSICA   5.0\n",
              "15                 2518 - MATEMÁTICAS   1.1\n",
              "16                 2514 - ESTADÍSTICA   3.6\n",
              "17                 2514 - ESTADÍSTICA   4.1\n",
              "18                 2514 - ESTADÍSTICA   2.9\n",
              "19                 2518 - MATEMÁTICAS   0.7"
            ]
          },
          "execution_count": 27,
          "metadata": {},
          "output_type": "execute_result"
        }
      ],
      "source": [
        "df_notas.head(20)"
      ]
    },
    {
      "cell_type": "markdown",
      "id": "990c56d6-246e-499c-99c3-287520805fa0",
      "metadata": {
        "id": "990c56d6-246e-499c-99c3-287520805fa0"
      },
      "source": [
        "Ahora calcularemos la nota promedio obtenida en el curso, para ello utilizaremos el comando \".describe()\", este nos calculo las principales medidas estadísticas exploratorias"
      ]
    },
    {
      "cell_type": "code",
      "execution_count": null,
      "id": "0827c446-cc7e-4e64-80ec-089b404e89ce",
      "metadata": {
        "id": "0827c446-cc7e-4e64-80ec-089b404e89ce",
        "outputId": "7f0168cd-cf0a-4400-a66c-ebbaa0a38389"
      },
      "outputs": [
        {
          "data": {
            "text/html": [
              "<div>\n",
              "<style scoped>\n",
              "    .dataframe tbody tr th:only-of-type {\n",
              "        vertical-align: middle;\n",
              "    }\n",
              "\n",
              "    .dataframe tbody tr th {\n",
              "        vertical-align: top;\n",
              "    }\n",
              "\n",
              "    .dataframe thead th {\n",
              "        text-align: right;\n",
              "    }\n",
              "</style>\n",
              "<table border=\"1\" class=\"dataframe\">\n",
              "  <thead>\n",
              "    <tr style=\"text-align: right;\">\n",
              "      <th></th>\n",
              "      <th>NOTA</th>\n",
              "    </tr>\n",
              "  </thead>\n",
              "  <tbody>\n",
              "    <tr>\n",
              "      <th>count</th>\n",
              "      <td>57.000000</td>\n",
              "    </tr>\n",
              "    <tr>\n",
              "      <th>mean</th>\n",
              "      <td>3.100000</td>\n",
              "    </tr>\n",
              "    <tr>\n",
              "      <th>std</th>\n",
              "      <td>1.519163</td>\n",
              "    </tr>\n",
              "    <tr>\n",
              "      <th>min</th>\n",
              "      <td>0.000000</td>\n",
              "    </tr>\n",
              "    <tr>\n",
              "      <th>25%</th>\n",
              "      <td>1.800000</td>\n",
              "    </tr>\n",
              "    <tr>\n",
              "      <th>50%</th>\n",
              "      <td>3.500000</td>\n",
              "    </tr>\n",
              "    <tr>\n",
              "      <th>75%</th>\n",
              "      <td>4.300000</td>\n",
              "    </tr>\n",
              "    <tr>\n",
              "      <th>max</th>\n",
              "      <td>5.000000</td>\n",
              "    </tr>\n",
              "  </tbody>\n",
              "</table>\n",
              "</div>"
            ],
            "text/plain": [
              "            NOTA\n",
              "count  57.000000\n",
              "mean    3.100000\n",
              "std     1.519163\n",
              "min     0.000000\n",
              "25%     1.800000\n",
              "50%     3.500000\n",
              "75%     4.300000\n",
              "max     5.000000"
            ]
          },
          "execution_count": 34,
          "metadata": {},
          "output_type": "execute_result"
        }
      ],
      "source": [
        "df_notas.describe()"
      ]
    },
    {
      "cell_type": "markdown",
      "id": "dd9751a8-15bf-4d50-841d-171a1f394076",
      "metadata": {
        "id": "dd9751a8-15bf-4d50-841d-171a1f394076"
      },
      "source": [
        "Como se puede observar este método nos calculó no solo la media, sino la desviación estandar, los cuartiles, entre otros"
      ]
    },
    {
      "cell_type": "markdown",
      "id": "e3a47c06-f93a-4d58-972a-94dcc04fcedc",
      "metadata": {
        "id": "e3a47c06-f93a-4d58-972a-94dcc04fcedc"
      },
      "source": [
        "Usted puede seguir leyendo y entendiendo sobre estas medidas descriptivas [aquí](https://www.redalyc.org/pdf/4867/486755026009.pdf)"
      ]
    }
  ],
  "metadata": {
    "kernelspec": {
      "display_name": "Python 3 (ipykernel)",
      "language": "python",
      "name": "python3"
    },
    "language_info": {
      "codemirror_mode": {
        "name": "ipython",
        "version": 3
      },
      "file_extension": ".py",
      "mimetype": "text/x-python",
      "name": "python",
      "nbconvert_exporter": "python",
      "pygments_lexer": "ipython3",
      "version": "3.9.7"
    },
    "colab": {
      "provenance": [],
      "include_colab_link": true
    }
  },
  "nbformat": 4,
  "nbformat_minor": 5
}